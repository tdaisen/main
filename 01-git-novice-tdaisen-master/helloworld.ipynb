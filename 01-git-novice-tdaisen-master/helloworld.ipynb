{
 "cells": [
  {
   "cell_type": "markdown",
   "metadata": {},
   "source": [
    "### ファイルの配布\n",
    "\n",
    "スライドで説明したとおり各種ファイルは GitHub Classroom から配布します。\n",
    "スライドではいくつかのステップを紹介しましたが、この内容が正常に見えていれば以下が完了しています。\n",
    "\n",
    "1. Google Classroom への登録\n",
    "1. Git インストール\n",
    "2. Python (jupyter-notebook 含む)\n",
    "3. GitHub への登録\n",
    "4. GitHub Classroom への登録\n"
   ]
  },
  {
   "cell_type": "markdown",
   "metadata": {},
   "source": [
    "## jupyter-notebook\n",
    "\n",
    "jupyter-notebook は Web ブラウザを利用した対話的なプログラミング環境です。\n",
    "jupyter-notebook を開いたときに右上が Python3 となっていることに注意してください。\n",
    "現在、Python ２つのバージョン(2系、3系)が広く使われていますが、講義では 3系を利用します。\n",
    "基盤センターの Anaconda では 2系、3系がインストールされています。\n",
    "\n",
    "#### ファイルの開き方\n",
    "この画面はタブ・別ウィンドウで `helloworld` というファイルが開いていると思いますが、\n",
    "最初の画面（`Home`）にファイル一覧が示されています。\n",
    "\n",
    "プログラムコードのようなテキストファイルであれば基本的にひらけます。\n",
    "`REDME.md` というファイルを開いてみてください。\n",
    "\n",
    "画面が開き編集が可能となります。適当にファイルを操作して、`File -> Save` で保存してください。\n",
    "\n",
    "その後、git のステージング(add), コミット(commit),マスターへ push について説明します。\n",
    "\n",
    "#### jupyter-notebook ファイル\n",
    "jupyter-notebook のファイルは、ipynb という拡張子がついています。\n",
    "\n",
    "ファイルの保存は、`File -> Save and Checkpoint` を選択、\n",
    "あるいは、左上の FloppyDisk アイコンをクリックしてください。\n",
    "このほか、Ctl+s (MacOS の場合 Command+S)を入力しても同じです。\n",
    "\n",
    "あらたにファイルを作成する場合は、`File -> New Notebook -> Python 3` を選択してください。\n",
    "ファイル名は `Untitled` となっていますので、`File -> Rename` を選択あるいはタイトルをダブルクリックして適切に変更してください。\n",
    "\n",
    "##### セルの種類とモード\n",
    "jupyter-notebook は複数の「セル」で構成されています。最初のセルは「**ファイルの配布**」の表題の上の部分になり、このセルは２番目のセルになります。\n",
    "\n",
    "講義では２種類のセル、Markdown、code、を使うことになります。  \n",
    "1. Markdown セルはこのセルのように文書が記述されます。\n",
    "1. code セルは Python プログラムを記述・実行します。  \n",
    "    code セルはセルの左側に \"In\\[\\]:\"のようなプロンプトが表示されています。  \n",
    "    *code セルについては次回以降に説明します*\n",
    "\n",
    "ユーザはセルを選択し文書・プログラムの編集・実行をおこないます。\n",
    "セルの選択はポインタ（マウスあるいはトラックパッド）を対象部分に移動、クリックします。\n",
    "\n",
    "選択されたセルは周囲の枠線によって示されます。枠線の色によってセルの**モード(mode)** が示されており、緑は編集(edit)モード、青はコマンド(command)モードを示しています。モードの切り替えは以下のとおりです:\n",
    "\n",
    "1. 編集 -> コマンド は Esc\n",
    "1. コマンド -> 編集 は Enter\n",
    "\n",
    "##### セルの実行\n",
    "セルを選択し、Shift+Enter を入力すればセルの内容が**実行**されます。\n",
    "すなわち以下がおこなわれます:\n",
    "1. Markdown セルの場合は整形\n",
    "2. code セルのの場合はプログラムの実行、結果の出力\n",
    "\n",
    "整形された Markdown セルはダブルクリックによって編集モードとなります。\n",
    "\n",
    "#### 実行が止まらない場合\n",
    "セルの実行が止まらない場合、例えば code セルの場合プロンプトが \"In\\[*\\]:\" のまま、\n",
    "の場合は　$\\blacksquare$ アイコン（`Interrupt the Kernel`）をクリックすれば停止させることができます。\n",
    "もちろんエラーも出力されます。"
   ]
  },
  {
   "cell_type": "markdown",
   "metadata": {},
   "source": [
    "## 練習\n",
    "このテキストのセル（Markdown cell）にカーソルを合わせマウスをダブルクリックして、編集モードに切り替えてください。"
   ]
  },
  {
   "cell_type": "markdown",
   "metadata": {},
   "source": [
    "変更"
   ]
  },
  {
   "cell_type": "code",
   "execution_count": null,
   "metadata": {},
   "outputs": [],
   "source": []
  },
  {
   "cell_type": "code",
   "execution_count": null,
   "metadata": {},
   "outputs": [],
   "source": []
  },
  {
   "cell_type": "code",
   "execution_count": null,
   "metadata": {},
   "outputs": [],
   "source": []
  },
  {
   "cell_type": "code",
   "execution_count": null,
   "metadata": {},
   "outputs": [],
   "source": []
  },
  {
   "cell_type": "code",
   "execution_count": null,
   "metadata": {},
   "outputs": [],
   "source": []
  },
  {
   "cell_type": "code",
   "execution_count": null,
   "metadata": {},
   "outputs": [],
   "source": []
  },
  {
   "cell_type": "code",
   "execution_count": null,
   "metadata": {},
   "outputs": [],
   "source": []
  }
 ],
 "metadata": {
  "kernelspec": {
   "display_name": "Python 3",
   "language": "python",
   "name": "python3"
  },
  "language_info": {
   "codemirror_mode": {
    "name": "ipython",
    "version": 3
   },
   "file_extension": ".py",
   "mimetype": "text/x-python",
   "name": "python",
   "nbconvert_exporter": "python",
   "pygments_lexer": "ipython3",
   "version": "3.7.3"
  }
 },
 "nbformat": 4,
 "nbformat_minor": 2
}

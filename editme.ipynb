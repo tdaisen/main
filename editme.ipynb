{
 "cells": [
  {
   "cell_type": "markdown",
   "metadata": {},
   "source": [
    "## git ファイルのコミット\n",
    "\n",
    "以下のセルを適当に変更してください。  \n",
    "セーブ後変更を GitHub レポジトリにコミットしてください。\n",
    "ファイル名は editme.ipynb です。\n",
    "\n",
    "念のためコミット方法をメモしておきます。\n",
    "\n",
    "```console\n",
    "$ git add editme.ipynb\n",
    "$ git commit -m \"なにかコメントを入れる\"\n",
    "$ git push origin master\n",
    "```"
   ]
  },
  {
   "cell_type": "markdown",
   "metadata": {},
   "source": []
  }
 ],
 "metadata": {
  "kernelspec": {
   "display_name": "Python 3",
   "language": "python",
   "name": "python3"
  },
  "language_info": {
   "codemirror_mode": {
    "name": "ipython",
    "version": 3
   },
   "file_extension": ".py",
   "mimetype": "text/x-python",
   "name": "python",
   "nbconvert_exporter": "python",
   "pygments_lexer": "ipython3",
   "version": "3.6.3"
  }
 },
 "nbformat": 4,
 "nbformat_minor": 2
}
